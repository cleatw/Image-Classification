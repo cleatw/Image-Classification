{
 "cells": [
  {
   "cell_type": "markdown",
   "metadata": {},
   "source": [
    "## WORK ON THE WEBAPP GOES HERE"
   ]
  },
  {
   "cell_type": "code",
   "execution_count": null,
   "metadata": {},
   "outputs": [],
   "source": [
    "gr.Interface(fn=image_prediction,\n",
    "             inputs=gr.inputs.Image(shape=(180,180)),\n",
    "             outputs=gr.outputs.Label(num_top_classes=5),\n",
    "             capture_session=True).launch(debug=True)"
   ]
  },
  {
   "cell_type": "code",
   "execution_count": null,
   "metadata": {},
   "outputs": [],
   "source": [
    "# gradio needs a function for predictions\n",
    "def image_prediction(img):\n",
    "    img_3d = img.reshape(-1, 180, 180, 3)\n",
    "    img_resized = img_3d\n",
    "    prediction = model_3.predict(img_resized)[0]\n",
    "    return {classes[i]: float(prediction[i]) for i in range(len(classes))}"
   ]
  }
 ],
 "metadata": {
  "kernelspec": {
   "display_name": "Python (learn-env)",
   "language": "python",
   "name": "learn-env"
  },
  "language_info": {
   "codemirror_mode": {
    "name": "ipython",
    "version": 3
   },
   "file_extension": ".py",
   "mimetype": "text/x-python",
   "name": "python",
   "nbconvert_exporter": "python",
   "pygments_lexer": "ipython3",
   "version": "3.8.5"
  }
 },
 "nbformat": 4,
 "nbformat_minor": 4
}
